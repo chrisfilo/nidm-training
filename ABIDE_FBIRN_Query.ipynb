{
 "cells": [
  {
   "cell_type": "code",
   "execution_count": 3,
   "metadata": {
    "collapsed": true
   },
   "outputs": [],
   "source": [
    "import os\n",
    "import rdflib as rdf\n",
    "#import csv for reading csv files\n",
    "import csv"
   ]
  },
  {
   "cell_type": "markdown",
   "metadata": {},
   "source": [
    "#Read in Turtle files"
   ]
  },
  {
   "cell_type": "code",
   "execution_count": 4,
   "metadata": {
    "collapsed": false
   },
   "outputs": [],
   "source": [
    "abide_graph = rdf.Graph()\n",
    "abide_graph_parse = abide_graph.parse('ABIDE_to_NIDM_RDFLib.ttl', format='turtle')\n",
    "\n",
    "fbirn_graph = rdf.Graph()\n",
    "fbirn_graph_parse = fbirn_graph.parse('FBIRN_to_NIDM_RDFLib.ttl', format='turtle')\n",
    "\n"
   ]
  },
  {
   "cell_type": "markdown",
   "metadata": {},
   "source": [
    "#SPARQL query for FIQ measures across graphs\n",
    "##Step 1: Figure out that ABIDE_FIQ and FBIRN FSIQ are the same thing based on looking up the terms\n",
    "##Step 2: Create a union graph\n",
    "##Step 3: Perform SPARQL Query"
   ]
  },
  {
   "cell_type": "code",
   "execution_count": 6,
   "metadata": {
    "collapsed": true
   },
   "outputs": [],
   "source": [
    "#Step 2:\n",
    "union_graph = abide_graph_parse + fbirn_graph_parse"
   ]
  },
  {
   "cell_type": "code",
   "execution_count": 7,
   "metadata": {
    "collapsed": true
   },
   "outputs": [],
   "source": [
    "#step 3a: Add namespaces from each graph\n",
    "nidm = rdf.URIRef(\"http://nidm.nidash.org/\")\n",
    "prov = rdf.URIRef(\"http://www.w3.org/ns/prov#\")\n",
    "ncit = rdf.URIRef(\"http://ncitt.ncit.nih.gov/\")\n",
    "nidash = rdf.URIRef(\"http://purl.org/nidash/nidm/\")\n",
    "fbirn = rdf.URIRef(\"http://www.birncommunity.org/collaborators/function-birn/\")\n",
    "abide = rdf.URIRef(\"http://fcon_1000.projects.nitrc.org/indi/abide/\")"
   ]
  },
  {
   "cell_type": "code",
   "execution_count": 15,
   "metadata": {
    "collapsed": false
   },
   "outputs": [
    {
     "name": "stdout",
     "output_type": "stream",
     "text": [
      "303851049 knows http://purl.org/nidash/nidm/agent_303851049\n",
      "CMU_50647 knows http://purl.org/nidash/nidm/agent_CMU_50647\n",
      "301882920 knows http://purl.org/nidash/nidm/agent_301882920\n",
      "303269784 knows http://purl.org/nidash/nidm/agent_303269784\n",
      "CMU_50646 knows http://purl.org/nidash/nidm/agent_CMU_50646\n",
      "305738011 knows http://purl.org/nidash/nidm/agent_305738011\n",
      "304253859 knows http://purl.org/nidash/nidm/agent_304253859\n",
      "CMU_50645 knows http://purl.org/nidash/nidm/agent_CMU_50645\n",
      "CMU_50644 knows http://purl.org/nidash/nidm/agent_CMU_50644\n",
      "CMU_50643 knows http://purl.org/nidash/nidm/agent_CMU_50643\n"
     ]
    }
   ],
   "source": [
    "#Step 3:\n",
    "qres = union_graph.query(\n",
    "    \"\"\"SELECT DISTINCT *\n",
    "       WHERE {\n",
    "          ?agent a prov:Agent ;\n",
    "          ncit:subjectID ?subjectid .\n",
    "       }\"\"\")\n",
    "\n",
    "for row in qres:\n",
    "    print(\"%s knows %s\" % row)"
   ]
  },
  {
   "cell_type": "code",
   "execution_count": null,
   "metadata": {
    "collapsed": true
   },
   "outputs": [],
   "source": []
  }
 ],
 "metadata": {
  "kernelspec": {
   "display_name": "Python 2",
   "language": "python",
   "name": "python2"
  },
  "language_info": {
   "codemirror_mode": {
    "name": "ipython",
    "version": 2
   },
   "file_extension": ".py",
   "mimetype": "text/x-python",
   "name": "python",
   "nbconvert_exporter": "python",
   "pygments_lexer": "ipython2",
   "version": "2.7.10"
  }
 },
 "nbformat": 4,
 "nbformat_minor": 0
}
