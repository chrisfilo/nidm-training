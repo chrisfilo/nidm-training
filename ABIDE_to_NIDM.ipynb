{
 "cells": [
  {
   "cell_type": "markdown",
   "metadata": {},
   "source": [
    "#Import Python libraries\n",
    "## prov - https://github.com/trungdong/prov\n",
    "## rdflib - https://pypi.python.org/pypi/rdflib"
   ]
  },
  {
   "cell_type": "code",
   "execution_count": 1,
   "metadata": {
    "collapsed": true
   },
   "outputs": [],
   "source": [
    "import os\n",
    "import rdflib\n",
    "from prov.model import ProvDocument"
   ]
  },
  {
   "cell_type": "markdown",
   "metadata": {},
   "source": [
    "#Create new Prov Document"
   ]
  },
  {
   "cell_type": "code",
   "execution_count": 2,
   "metadata": {
    "collapsed": true
   },
   "outputs": [],
   "source": [
    "\n",
    "# create a prov bundle to store the graph\n",
    "g = ProvDocument()\n"
   ]
  },
  {
   "cell_type": "markdown",
   "metadata": {},
   "source": [
    "#Load in data files in CSV format for ABIDE and FBIRN data"
   ]
  },
  {
   "cell_type": "code",
   "execution_count": null,
   "metadata": {
    "collapsed": true
   },
   "outputs": [],
   "source": []
  },
  {
   "cell_type": "code",
   "execution_count": null,
   "metadata": {
    "collapsed": true
   },
   "outputs": [],
   "source": [
    "\n",
    "# define namespaces \n",
    "# add namespaces to the graph\n",
    "g.add_namespace('nidm','http://nidm.nidash.org/')\n",
    "g.add_namespace('spm','www.fil.ion.ucl.ac.uk/spm/')\n",
    "g.add_namespace('prov','http://www.w3.org/ns/prov#')\n",
    "g.add_namespace('nidm_experiment','http://purl.org/nidash/nidm/nidmexperiment_forms.owl/')\n",
    "g.add_namespace('ncit','http://ncitt.ncit.nih.gov/')"
   ]
  }
 ],
 "metadata": {
  "kernelspec": {
   "display_name": "Python 2",
   "language": "python",
   "name": "python2"
  },
  "language_info": {
   "codemirror_mode": {
    "name": "ipython",
    "version": 2
   },
   "file_extension": ".py",
   "mimetype": "text/x-python",
   "name": "python",
   "nbconvert_exporter": "python",
   "pygments_lexer": "ipython2",
   "version": "2.7.9"
  }
 },
 "nbformat": 4,
 "nbformat_minor": 0
}
